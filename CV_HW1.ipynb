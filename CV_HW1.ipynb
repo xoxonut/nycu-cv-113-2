{
  "nbformat": 4,
  "nbformat_minor": 0,
  "metadata": {
    "colab": {
      "provenance": [],
      "gpuType": "T4",
      "include_colab_link": true
    },
    "kernelspec": {
      "name": "python3",
      "display_name": "Python 3"
    },
    "language_info": {
      "name": "python"
    },
    "accelerator": "GPU"
  },
  "cells": [
    {
      "cell_type": "markdown",
      "metadata": {
        "id": "view-in-github",
        "colab_type": "text"
      },
      "source": [
        "<a href=\"https://colab.research.google.com/github/xoxonut/nycu-cv-113-2/blob/main/CV_HW1.ipynb\" target=\"_parent\"><img src=\"https://colab.research.google.com/assets/colab-badge.svg\" alt=\"Open In Colab\"/></a>"
      ]
    },
    {
      "cell_type": "code",
      "source": [
        "from google.colab import drive\n",
        "drive.mount('/content/drive')"
      ],
      "metadata": {
        "id": "ms-LIvVfC1tm",
        "outputId": "a70ffc9d-9a5a-4b85-b919-16822f043342",
        "colab": {
          "base_uri": "https://localhost:8080/"
        }
      },
      "execution_count": 1,
      "outputs": [
        {
          "output_type": "stream",
          "name": "stdout",
          "text": [
            "Mounted at /content/drive\n"
          ]
        }
      ]
    },
    {
      "cell_type": "code",
      "source": [
        "!tar -xvzf \"/content/drive/MyDrive/hw1-data.tar.gz\" -C \"/content\" > /dev/null 2>&1\n",
        "!du -sh \"/content/data\"\n",
        "!awk 'BEGIN {sum=0} /^[0-9]+$/ {sum+=$1} END {print sum}' <(find \"/content/data/train\" -type f | wc -l) <(find \"/content/data/val\" -type f | wc -l)"
      ],
      "metadata": {
        "id": "545JUVYt90Bn",
        "colab": {
          "base_uri": "https://localhost:8080/"
        },
        "outputId": "f5452c21-a817-4045-d08b-0ee1d61fbc5f"
      },
      "execution_count": 2,
      "outputs": [
        {
          "output_type": "stream",
          "name": "stdout",
          "text": [
            "6.5G\t/content/data\n",
            "21024\n"
          ]
        }
      ]
    },
    {
      "cell_type": "code",
      "source": [
        "from torchvision import datasets\n",
        "from torchvision.transforms import v2\n",
        "from torchvision.models import resnet50,ResNet50_Weights\n",
        "from torch.utils.data import DataLoader,Dataset\n",
        "from torch import nn\n",
        "import torch\n",
        "import pandas as pd\n",
        "import matplotlib.pyplot as plt\n",
        "import os\n",
        "import PIL.Image as Image\n",
        "import numpy as np\n"
      ],
      "metadata": {
        "id": "-bKg2bCHly22"
      },
      "execution_count": 21,
      "outputs": []
    },
    {
      "cell_type": "code",
      "source": [
        "def get_transforms():\n",
        "  train_transform = v2.Compose([\n",
        "      v2.Lambda(lambda img: img.convert(\"RGB\")),\n",
        "      v2.Resize((224,224)),\n",
        "      v2.ColorJitter(hue=.05, saturation=.05),\n",
        "      v2.RandomHorizontalFlip(),\n",
        "      v2.RandomRotation(20),\n",
        "      v2.ToTensor(),\n",
        "      v2.Normalize(mean=[0.485, 0.456, 0.406], std=[0.229, 0.224, 0.225])\n",
        "  ])\n",
        "  test_transform = v2.Compose([\n",
        "      v2.Lambda(lambda img: img.convert(\"RGB\")),\n",
        "      v2.Resize((224,224)),\n",
        "      v2.ToTensor(),\n",
        "      v2.Normalize(mean=[0.485, 0.456, 0.406], std=[0.229, 0.224, 0.225])\n",
        "  ])\n",
        "  return train_transform, test_transform"
      ],
      "metadata": {
        "id": "a7tRcYvyhg29"
      },
      "execution_count": 22,
      "outputs": []
    },
    {
      "cell_type": "code",
      "source": [
        "def create_dataloader(train_transform,test_transform,batch_size):\n",
        "  class LabeledDataset(Dataset):\n",
        "    def __init__(self,root_dir,transform=None):\n",
        "      self.root_dir = root_dir\n",
        "      self.transform = transform\n",
        "      self.classes = os.listdir(root_dir)\n",
        "      self.class_to_idx = {cls:int(cls) for cls in self.classes}\n",
        "      self.image_paths = []\n",
        "      self.labels = []\n",
        "      for cls in self.classes:\n",
        "        cls_dir = os.path.join(root_dir,cls)\n",
        "        if os.path.isdir(cls_dir):\n",
        "          for img_name in os.listdir(cls_dir):\n",
        "            img_path = os.path.join(cls_dir,img_name)\n",
        "            if os.path.isfile(img_path):\n",
        "              self.image_paths.append(img_path)\n",
        "              self.labels.append(self.class_to_idx[cls])\n",
        "    def __len__(self):\n",
        "      return len(self.image_paths)\n",
        "    def __getitem__(self,index):\n",
        "      image_path = self.image_paths[index]\n",
        "      image = Image.open(image_path)\n",
        "      label = self.labels[index]\n",
        "      if self.transform:\n",
        "        image = self.transform(image)\n",
        "      return image,label\n",
        "\n",
        "  train_set = LabeledDataset(\"/content/data/train\",transform=train_transform)\n",
        "  val_set = LabeledDataset(\"/content/data/val\",transform=test_transform)\n",
        "  train_loader = DataLoader(train_set, batch_size=batch_size, shuffle=False)\n",
        "  val_loader = DataLoader(val_set, batch_size=batch_size, shuffle=False)\n",
        "  class TestDataSet(Dataset):\n",
        "    def __init__(self, root_dir, transform=None):\n",
        "      self.root_dir = root_dir\n",
        "      self.transform = transform\n",
        "      valid_exts = (\".jpg\",\".jpeg\",\".png\",\".bmp\")\n",
        "      self.image_paths = [os.path.join(root_dir, f) for f in os.listdir(root_dir) if f.lower().endswith(valid_exts)]\n",
        "\n",
        "    def __len__(self):\n",
        "      return len(self.image_paths)\n",
        "\n",
        "    def __getitem__(self, index):\n",
        "      image_path = self.image_paths[index]\n",
        "      image = Image.open(image_path)\n",
        "      if self.transform:\n",
        "        image = self.transform(image)\n",
        "      file_name = os.path.basename(image_path)\n",
        "      name_only = os.path.splitext(file_name)[0]\n",
        "      return image,name_only\n",
        "  test_set = TestDataSet(\"/content/data/test\",transform=test_transform)\n",
        "  test_loader = DataLoader(test_set, batch_size=batch_size, shuffle=False)\n",
        "  return train_loader,val_loader,test_loader"
      ],
      "metadata": {
        "id": "XxVYB8cBok4s"
      },
      "execution_count": 23,
      "outputs": []
    },
    {
      "cell_type": "code",
      "source": [
        "def train_one_epoch(model,train_loader,optimizer,criterion,device):\n",
        "  model.train()\n",
        "  total_loss, correct, total = 0, 0, 0\n",
        "  for inputs, labels in train_loader:\n",
        "    inputs, labels = inputs.to(device), labels.to(device)\n",
        "    optimizer.zero_grad()\n",
        "    outputs = model(inputs)\n",
        "    loss = criterion(outputs, labels)\n",
        "    loss.backward()\n",
        "    optimizer.step()\n",
        "\n",
        "    total_loss += loss.item()\n",
        "    predicted = torch.argmax(outputs, dim=1)\n",
        "    correct += (predicted == labels).sum().item()\n",
        "    total += labels.size(0)\n",
        "  avg_loss = total_loss / len(train_loader)\n",
        "  avg_acc = correct / total * 100\n",
        "  return avg_loss, avg_acc"
      ],
      "metadata": {
        "id": "B7jaV7ANqFes"
      },
      "execution_count": 24,
      "outputs": []
    },
    {
      "cell_type": "code",
      "source": [
        "def validate(model,val_loader,criterion,device):\n",
        "  model.eval()\n",
        "  total_loss, correct, total = 0, 0, 0\n",
        "  with torch.no_grad():\n",
        "    for inputs, labels in val_loader:\n",
        "      inputs, labels = inputs.to(device), labels.to(device)\n",
        "      outputs = model(inputs)\n",
        "      loss = criterion(outputs, labels)\n",
        "\n",
        "      total_loss += loss.item()\n",
        "      predicted = torch.argmax(outputs, dim=1)\n",
        "      correct += (predicted == labels).sum().item()\n",
        "      total += labels.size(0)\n",
        "  avg_loss = total_loss / len(val_loader)\n",
        "  avg_acc = correct / total * 100\n",
        "  return avg_loss, avg_acc"
      ],
      "metadata": {
        "id": "xWc6_O6ornPO"
      },
      "execution_count": 25,
      "outputs": []
    },
    {
      "cell_type": "code",
      "source": [
        "def test_model(model,test_loader,device):\n",
        "  model.eval()\n",
        "  correct, total = 0, 0\n",
        "  predictions = []\n",
        "  with torch.no_grad():\n",
        "    for inputs, file_names in test_loader:\n",
        "      inputs = inputs.to(device)\n",
        "      outputs = model(inputs)\n",
        "      preds = torch.argmax(outputs, dim=1)\n",
        "\n",
        "      for file_name, pred in zip(file_names, preds):\n",
        "        predictions.append({\"image_name\": file_name,\n",
        "                            \"pred_label\": pred.item()})\n",
        "  return predictions\n"
      ],
      "metadata": {
        "id": "4RMbQx9fr_i2"
      },
      "execution_count": 26,
      "outputs": []
    },
    {
      "cell_type": "code",
      "source": [
        "def init_RestNet50(num_classes):\n",
        "  model = resnet50(weights=ResNet50_Weights.DEFAULT)\n",
        "  num_ftrs = model.fc.in_features\n",
        "  model.fc = nn.Sequential(\n",
        "    nn.Linear(num_ftrs, 512),\n",
        "    nn.ReLU(),\n",
        "    nn.Dropout(0.5),\n",
        "    nn.Linear(512, num_classes)\n",
        "  )\n",
        "  for p in model.parameters():\n",
        "    p.requires_grad = False\n",
        "  for p in model.fc.parameters():\n",
        "    p.requires_grad = True\n",
        "  for p in model.layer4.parameters():\n",
        "    p.requires_grad = True\n",
        "  return model"
      ],
      "metadata": {
        "id": "IvI2p675ntpp"
      },
      "execution_count": 27,
      "outputs": []
    },
    {
      "cell_type": "code",
      "source": [
        "import matplotlib.pyplot as plt\n",
        "\n",
        "def plot_loss_accuracy(train_losses, val_losses, train_accs, val_accs):\n",
        "    epochs = range(1, len(train_losses) + 1)\n",
        "\n",
        "    plt.figure(figsize=(12, 4))\n",
        "\n",
        "    # Plot losses\n",
        "    plt.subplot(1, 2, 1)\n",
        "    plt.plot(epochs, train_losses, label='Training Loss')\n",
        "    plt.plot(epochs, val_losses, label='Validation Loss')\n",
        "    plt.xlabel('Epoch')\n",
        "    plt.ylabel('Loss')\n",
        "    plt.title('Training and Validation Loss')\n",
        "    plt.legend()\n",
        "\n",
        "    # Plot accuracies\n",
        "    plt.subplot(1, 2, 2)\n",
        "    plt.plot(epochs, train_accs, label='Training Accuracy')\n",
        "    plt.plot(epochs, val_accs, label='Validation Accuracy')\n",
        "    plt.xlabel('Epoch')\n",
        "    plt.ylabel('Accuracy')\n",
        "    plt.title('Training and Validation Accuracy')\n",
        "    plt.legend()\n",
        "\n",
        "    plt.tight_layout()\n",
        "    plt.show()\n"
      ],
      "metadata": {
        "id": "K2jbIxK2vOuc"
      },
      "execution_count": 28,
      "outputs": []
    },
    {
      "cell_type": "code",
      "source": [
        "def print_model_size(model):\n",
        "    param_size = sum(p.numel() * p.element_size() for p in model.parameters())  # in bytes\n",
        "    buffer_size = sum(b.numel() * b.element_size() for b in model.buffers())  # in bytes\n",
        "    total_size = (param_size + buffer_size) / (1024 ** 2)  # Convert to MB\n",
        "    print(f\"Model size: {total_size:.2f} MB\")\n"
      ],
      "metadata": {
        "id": "T35AMw9OvacU"
      },
      "execution_count": 29,
      "outputs": []
    },
    {
      "cell_type": "code",
      "source": [
        "if __name__ == \"__main__\":\n",
        "  train_transform,test_transform = get_transforms()\n",
        "  train_loader,val_loader,test_loader = create_dataloader(train_transform,test_transform,32)\n",
        "  model = init_RestNet50(100)\n",
        "  device = torch.device(\"cuda\" if torch.cuda.is_available() else \"cpu\")\n",
        "  model.to(device)\n",
        "  criterion = nn.CrossEntropyLoss()\n",
        "  optimizer = torch.optim.AdamW(model.parameters(), lr=0.001,weight_decay=0.01)\n",
        "  scheduler = torch.optim.lr_scheduler.StepLR(optimizer, step_size=3, gamma=0.8)\n",
        "  epochs = 10\n",
        "  train_losses, train_accs, val_losses, val_accs = [], [], [], []\n",
        "  print_model_size(model)\n",
        "  for epoch in range(epochs):\n",
        "    train_loss, train_acc = train_one_epoch(model, train_loader, optimizer, criterion, device)\n",
        "    val_loss, val_acc = validate(model, val_loader, criterion, device)\n",
        "    train_losses.append(train_loss)\n",
        "    train_accs.append(train_acc)\n",
        "    val_losses.append(val_loss)\n",
        "    val_accs.append(val_acc)\n",
        "    torch.save(model,\"/content/drive/MyDrive/full_model.pth\")\n",
        "    print(f\"Epoch {epoch+1}/{epochs} - Train Loss: {train_loss:.4f} - Train Acc: {train_acc:.2f}% - Val Loss: {val_loss:.4f} - Val Acc: {val_acc:.2f}%\")\n",
        "  plot_loss_accuracy(train_losses, val_losses, train_accs, val_accs)\n",
        "  res = test_model(model,test_loader,device)\n",
        "  df = pd.DataFrame(res)\n",
        "  df.to_csv(\"/content/drive/MyDrive/prediction.csv\",index=False)\n"
      ],
      "metadata": {
        "id": "6yOAAexJk2iM",
        "colab": {
          "base_uri": "https://localhost:8080/",
          "height": 437
        },
        "outputId": "59626666-37d6-46c2-a959-2ed311a89ba5"
      },
      "execution_count": 30,
      "outputs": [
        {
          "output_type": "stream",
          "name": "stdout",
          "text": [
            "Model size: 94.08 MB\n",
            "Epoch 1/10 - Train Loss: 4.6644 - Train Acc: 1.89% - Val Loss: 4.6852 - Val Acc: 1.00%\n",
            "Epoch 2/10 - Train Loss: 3.2820 - Train Acc: 13.02% - Val Loss: 4.6540 - Val Acc: 1.00%\n",
            "Epoch 3/10 - Train Loss: 2.5723 - Train Acc: 25.94% - Val Loss: 7.5853 - Val Acc: 1.00%\n",
            "Epoch 4/10 - Train Loss: 2.1982 - Train Acc: 30.80% - Val Loss: 7.3829 - Val Acc: 1.00%\n",
            "Epoch 5/10 - Train Loss: 2.0884 - Train Acc: 31.78% - Val Loss: 6.1997 - Val Acc: 1.00%\n",
            "Epoch 6/10 - Train Loss: 1.9589 - Train Acc: 35.30% - Val Loss: 8.9042 - Val Acc: 1.00%\n",
            "Epoch 7/10 - Train Loss: 1.8975 - Train Acc: 35.97% - Val Loss: 18.8381 - Val Acc: 1.00%\n",
            "Epoch 8/10 - Train Loss: 1.9160 - Train Acc: 36.32% - Val Loss: 14.0824 - Val Acc: 1.00%\n",
            "Epoch 9/10 - Train Loss: 1.8710 - Train Acc: 35.36% - Val Loss: 12.9087 - Val Acc: 1.00%\n",
            "Epoch 10/10 - Train Loss: 1.7674 - Train Acc: 38.87% - Val Loss: 20.0665 - Val Acc: 1.00%\n"
          ]
        },
        {
          "output_type": "display_data",
          "data": {
            "text/plain": [
              "<Figure size 1200x400 with 2 Axes>"
            ],
            "image/png": "[encoded data removed]"
          },
          "metadata": {}
        }
      ]
    }
  ]
}